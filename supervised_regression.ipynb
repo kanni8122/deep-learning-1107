{
  "nbformat": 4,
  "nbformat_minor": 0,
  "metadata": {
    "colab": {
      "provenance": []
    },
    "kernelspec": {
      "name": "python3",
      "display_name": "Python 3"
    },
    "language_info": {
      "name": "python"
    }
  },
  "cells": [
    {
      "cell_type": "code",
      "execution_count": null,
      "metadata": {
        "id": "SLaYRCE5gWh5"
      },
      "outputs": [],
      "source": [
        "import numpy as np\n",
        "import matplotlib.pyplot as plt\n",
        "import tensorflow as tf\n",
        "from tensorflow.keras.models import Sequential\n",
        "from tensorflow.keras.layers import Conv2D, Flatten, Dense\n",
        "from tensorflow.keras.optimizers import Adam\n"
      ]
    },
    {
      "cell_type": "code",
      "source": [
        "def generate_dataset(num_samples=10000, img_size=50):\n",
        "    images = np.zeros((num_samples, img_size, img_size, 1), dtype=np.float32)\n",
        "    labels = np.zeros((num_samples, 2), dtype=np.float32)\n",
        "\n",
        "    for i in range(num_samples):\n",
        "        x = np.random.randint(0, img_size)\n",
        "        y = np.random.randint(0, img_size)\n",
        "        images[i, x, y, 0] = 255\n",
        "        labels[i] = [x, y]\n",
        "\n",
        "    return images, labels"
      ],
      "metadata": {
        "id": "OZiVXJTzjP_f"
      },
      "execution_count": 2,
      "outputs": []
    },
    {
      "cell_type": "code",
      "source": [
        "train_images, train_labels = generate_dataset(num_samples=8000, img_size=50)\n",
        "val_images, val_labels = generate_dataset(num_samples=2000, img_size=50)\n",
        "\n",
        "# Build the model\n",
        "model = Sequential([\n",
        "    Conv2D(32, (3, 3), activation='relu', input_shape=(50, 50, 1)),\n",
        "    Conv2D(64, (3, 3), activation='relu'),\n",
        "    Conv2D(128, (3, 3), activation='relu'),\n",
        "    Flatten(),\n",
        "    Dense(64, activation='relu'),\n",
        "    Dense(2)\n",
        "])\n",
        "\n",
        "model.compile(optimizer=Adam(learning_rate=0.001), loss='mse')\n",
        "\n",
        "# Train the model\n",
        "history = model.fit(train_images, train_labels, epochs=10, validation_data=(val_images, val_labels))\n"
      ],
      "metadata": {
        "colab": {
          "base_uri": "https://localhost:8080/"
        },
        "id": "1LSeJiA-jQC6",
        "outputId": "f66296e3-3b00-48c5-8e46-f0ac9ba3ca32"
      },
      "execution_count": 3,
      "outputs": [
        {
          "output_type": "stream",
          "name": "stdout",
          "text": [
            "Epoch 1/10\n",
            "250/250 [==============================] - 302s 1s/step - loss: 33.4267 - val_loss: 3.9297\n",
            "Epoch 2/10\n",
            "250/250 [==============================] - 312s 1s/step - loss: 2.4715 - val_loss: 1.7775\n",
            "Epoch 3/10\n",
            "250/250 [==============================] - 312s 1s/step - loss: 1.4942 - val_loss: 1.3310\n",
            "Epoch 4/10\n",
            "250/250 [==============================] - 310s 1s/step - loss: 1.2073 - val_loss: 1.8758\n",
            "Epoch 5/10\n",
            "250/250 [==============================] - 309s 1s/step - loss: 1.1527 - val_loss: 0.7701\n",
            "Epoch 6/10\n",
            "250/250 [==============================] - 307s 1s/step - loss: 0.7967 - val_loss: 0.8559\n",
            "Epoch 7/10\n",
            "250/250 [==============================] - 301s 1s/step - loss: 0.8962 - val_loss: 0.8840\n",
            "Epoch 8/10\n",
            "250/250 [==============================] - 311s 1s/step - loss: 0.9527 - val_loss: 1.0598\n",
            "Epoch 9/10\n",
            "250/250 [==============================] - 302s 1s/step - loss: 1.1329 - val_loss: 0.7135\n",
            "Epoch 10/10\n",
            "250/250 [==============================] - 312s 1s/step - loss: 0.4950 - val_loss: 0.4281\n"
          ]
        }
      ]
    },
    {
      "cell_type": "code",
      "source": [
        "loss = model.evaluate(val_images, val_labels)\n",
        "print(f'Validation Loss: {loss}')\n"
      ],
      "metadata": {
        "colab": {
          "base_uri": "https://localhost:8080/"
        },
        "id": "5EE0FE9UjQGF",
        "outputId": "8015233e-919a-4ed8-e358-ae18110a5e6e"
      },
      "execution_count": 4,
      "outputs": [
        {
          "output_type": "stream",
          "name": "stdout",
          "text": [
            "63/63 [==============================] - 17s 265ms/step - loss: 0.4281\n",
            "Validation Loss: 0.4281422197818756\n"
          ]
        }
      ]
    },
    {
      "cell_type": "code",
      "source": [
        "predictions = model.predict(val_images)"
      ],
      "metadata": {
        "colab": {
          "base_uri": "https://localhost:8080/"
        },
        "id": "HR_qKhAGjQH2",
        "outputId": "3b3a38df-9cb7-40f6-ccfa-5b9832787a2f"
      },
      "execution_count": 5,
      "outputs": [
        {
          "output_type": "stream",
          "name": "stdout",
          "text": [
            "63/63 [==============================] - 17s 260ms/step\n"
          ]
        }
      ]
    },
    {
      "cell_type": "code",
      "source": [
        "print(predictions)"
      ],
      "metadata": {
        "colab": {
          "base_uri": "https://localhost:8080/"
        },
        "id": "IxLwQtDMjQLS",
        "outputId": "939596a6-e6b7-444b-8dad-81daa437e5f9"
      },
      "execution_count": 7,
      "outputs": [
        {
          "output_type": "stream",
          "name": "stdout",
          "text": [
            "[[19.683546   20.986965  ]\n",
            " [37.168552   31.936573  ]\n",
            " [16.333864   14.167496  ]\n",
            " ...\n",
            " [27.915897   26.113724  ]\n",
            " [20.07092    22.367336  ]\n",
            " [39.154175    0.91993314]]\n"
          ]
        }
      ]
    },
    {
      "cell_type": "code",
      "source": [
        "def plot_results(images, true_coords, pred_coords, num_samples=5):\n",
        "    plt.figure(figsize=(15, 5))\n",
        "    for i in range(num_samples):\n",
        "        plt.subplot(1, num_samples, i+1)\n",
        "        plt.imshow(images[i].reshape(50, 50), cmap='gray')\n",
        "        plt.scatter(true_coords[i][1], true_coords[i][0], color='green', label='True')\n",
        "        plt.scatter(pred_coords[i][1], pred_coords[i][0], color='red', label='Predicted')\n",
        "        plt.legend()\n",
        "    plt.show()"
      ],
      "metadata": {
        "id": "F_qdAuEIvuID"
      },
      "execution_count": 8,
      "outputs": []
    },
    {
      "cell_type": "code",
      "source": [
        "plot_results(val_images, val_labels, predictions, num_samples=5)"
      ],
      "metadata": {
        "colab": {
          "base_uri": "https://localhost:8080/",
          "height": 264
        },
        "id": "ZZNjD7wkv19f",
        "outputId": "2a6284ed-f707-4b29-e8ad-95c9e10629ef"
      },
      "execution_count": 9,
      "outputs": [
        {
          "output_type": "display_data",
          "data": {
            "text/plain": [
              "<Figure size 1500x500 with 5 Axes>"
            ],
            "image/png": "[encoded data removed]"
          },
          "metadata": {}
        }
      ]
    },
    {
      "cell_type": "code",
      "source": [
        "# model.save('pixel_coordinate_predictor.h5')\n",
        "\n",
        "\n",
        "# with open('training_history.npy', 'wb') as f:\n",
        "#     np.save(f, history.history)\n",
        "\n",
        "\n",
        "# np.save('train_images.npy', train_images)\n",
        "# np.save('train_labels.npy', train_labels)\n",
        "# np.save('val_images.npy', val_images)\n",
        "# np.save('val_labels.npy', val_labels)\n",
        "\n",
        "\n",
        "# requirements = \"\"\"\n",
        "# tensorflow==2.10.0\n",
        "# numpy\n",
        "# matplotlib\n",
        "# \"\"\"\n",
        "\n",
        "# with open('requirements.txt', 'w') as f:\n",
        "#     f.write(requirements)"
      ],
      "metadata": {
        "id": "c1DeWC4Uv4eO"
      },
      "execution_count": null,
      "outputs": []
    }
  ]
}